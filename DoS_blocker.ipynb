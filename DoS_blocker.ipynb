{
 "cells": [
  {
   "cell_type": "code",
   "execution_count": null,
   "id": "d7fdd195",
   "metadata": {},
   "outputs": [
    {
     "name": "stdout",
     "output_type": "stream",
     "text": [
      "THRESHOLD: {Threshhold}\n",
      "This script requires root priviledges.\n"
     ]
    },
    {
     "ename": "SystemExit",
     "evalue": "1",
     "output_type": "error",
     "traceback": [
      "An exception has occurred, use %tb to see the full traceback.\n",
      "\u001b[0;31mSystemExit\u001b[0m\u001b[0;31m:\u001b[0m 1\n"
     ]
    }
   ],
   "source": [
    "import os #interacts with the os\n",
    "import sys #handle system-specific parameters and function\n",
    "import time #time module to handle time-related tasks like transfer rate etc.\n",
    "from collections import defaultdict #store and manage packet counts for each IP\n",
    "from scapy.all import sniff, IP #helps to capture and analyze network packets\n",
    "\n",
    "\n",
    "#Variable representing the threshhold of the DOS attack\n",
    "Threshhold = 40\n",
    "print(\"THRESHOLD: {Threshhold}\")\n",
    "\n",
    "def packet_callback(packet):\n",
    "    src_ip = packet[IP].src\n",
    "    packet_count[src_ip] += 1\n",
    "    current_time = time.time()\n",
    "    time_interval = current_time - start_time[0]\n",
    "    \n",
    "    if time_interval >= 1:\n",
    "        for ip, count in packet_count.items():\n",
    "            packet_rate = count / time_interval\n",
    "            if packet_rate > Threshhold and ip not in blocked_ips:\n",
    "                print(f\"Blocking IP: {ip}, packet rate : {packet_rate}\")\n",
    "                os.system(f\"iptables -A INPUT -s {ip} -j DROP\")\n",
    "                blocked_ips.add(ip)\n",
    "                \n",
    "        packet_count.clear()\n",
    "        start_time[0] = current_time\n",
    "        \n",
    "if __name__ == \"__main__\":\n",
    "    if os.geteuid() != 0:\n",
    "        print(\"This script requires root priviledges.\")\n",
    "        sys.exit(1)\n",
    "        \n",
    "        packet_count = defaultdict(int)\n",
    "        start_time = [time.time()]\n",
    "        blocked_ips = set()\n",
    "    print(\"Monitoring network traffic...\")\n",
    "    sniff(filter=\"ip\", prn=packet_callback, store=0, count=0)"
   ]
  }
 ],
 "metadata": {
  "kernelspec": {
   "display_name": "Python 3",
   "language": "python",
   "name": "python3"
  },
  "language_info": {
   "codemirror_mode": {
    "name": "ipython",
    "version": 3
   },
   "file_extension": ".py",
   "mimetype": "text/x-python",
   "name": "python",
   "nbconvert_exporter": "python",
   "pygments_lexer": "ipython3",
   "version": "3.9.6"
  }
 },
 "nbformat": 4,
 "nbformat_minor": 5
}
