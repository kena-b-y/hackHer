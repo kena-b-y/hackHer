{
 "cells": [
  {
   "cell_type": "code",
   "execution_count": null,
   "id": "c6817f92",
   "metadata": {},
   "outputs": [],
   "source": [
    "\n",
    "import sys\n",
    "import argparse\n",
    "import socket\n",
    "\n",
    "def get_service_banner(ip, port):\n",
    "    try:\n",
    "        sock = socket.socket(socket.AF_INET, socket.SOCK_STREAM)\n",
    "        sock.settimeout(3)\n",
    "        sock.connect((ip, int(port)))\n",
    "        sock.send(b\"GET / HTTP/1.1\\r\\nHost: \" + ip.encode() + b\"\\r\\n\\r\\n\")\n",
    "        banner = sock.recv(1024)\n",
    "        sock.close()\n",
    "\n",
    "        return banner.decode('utf-8', errors='ignore')\n",
    "    except Exception:\n",
    "        return None\n",
    "\n",
    "def main():\n",
    "    parser = argparse.ArgumentParser(description='Service Banner Scanner')\n",
    "    parser.add_argument('ip', help='IP address to scan')\n",
    "    parser.add_argument('-p', '--ports', required=True, help='Ports to scan (comma-separated)')\n",
    "\n",
    "    args = parser.parse_args()\n",
    "\n",
    "    ip = args.ip\n",
    "    ports = [port.strip() for port in args.ports.split(',')]\n",
    "\n",
    "    print(f\"Scanning IP: {ip}\")\n",
    "    for port in ports:\n",
    "        print(f\"Scanning port {port} on IP {ip}\")\n",
    "        banner = get_service_banner(ip, port)\n",
    "        if banner:\n",
    "            print(f\"Service banner for port {port} on IP {ip}:\\n{banner}\\n\")\n",
    "        else:\n",
    "            print(f\"No service banner found for port {port} on IP {ip}\\n\")\n",
    "\n",
    "if __name__ == \"__main__\":\n",
    "    main()\n",
    "\n"
   ]
  }
 ],
 "metadata": {
  "language_info": {
   "name": "python"
  }
 },
 "nbformat": 4,
 "nbformat_minor": 5
}
