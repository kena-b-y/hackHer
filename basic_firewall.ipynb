{
 "cells": [
  {
   "cell_type": "code",
   "execution_count": 1,
   "id": "d581e99f",
   "metadata": {},
   "outputs": [
    {
     "name": "stdout",
     "output_type": "stream",
     "text": [
      "IP: 192.168.1.20, Action: allow, Random: 1565\n",
      "IP: 192.168.1.0, Action: allow, Random: 7936\n",
      "IP: 192.168.1.11, Action: allow, Random: 542\n",
      "IP: 192.168.1.10, Action: allow, Random: 1808\n",
      "IP: 192.168.1.0, Action: allow, Random: 1971\n",
      "IP: 192.168.1.18, Action: allow, Random: 5897\n",
      "IP: 192.168.1.2, Action: allow, Random: 95\n",
      "IP: 192.168.1.3, Action: allow, Random: 3613\n",
      "IP: 192.168.1.12, Action: allow, Random: 9429\n",
      "IP: 192.168.1.4, Action: block, Random: 8191\n",
      "IP: 192.168.1.9, Action: block, Random: 1220\n",
      "IP: 192.168.1.0, Action: allow, Random: 617\n"
     ]
    }
   ],
   "source": [
    "import random  # simulation purposes\n",
    "\n",
    "#Generating a random IP\n",
    "def generate_random_ip():\n",
    "    return f\"192.168.1.{random.randint(0, 20)}\"\n",
    "\n",
    "#checks the IP against the firewall_rules to deteremine the action\n",
    "def check_firewall_rules(ip, rules):\n",
    "    for rule_ip, action in rules.items():\n",
    "        if ip == rule_ip:\n",
    "            return action\n",
    "    return \"allow\"\n",
    "\n",
    "def main():\n",
    "    # python dictionary to define the rules\n",
    "    firewall_rules = {\n",
    "        \"192.168.1.1\": \"block\",\n",
    "        \"192.168.1.4\": \"block\",\n",
    "        \"192.168.1.9\": \"block\",\n",
    "        \"192.168.1.13\": \"block\",\n",
    "        \"192.168.1.16\": \"block\",\n",
    "        \"192.168.1.19\": \"block\",\n",
    "    }\n",
    "\n",
    "    # Simulate network traffic\n",
    "    for _ in range(12):\n",
    "        ip_address = generate_random_ip()\n",
    "        action = check_firewall_rules(ip_address, firewall_rules)\n",
    "        random_number = random.randint(0, 9999)\n",
    "        print(f\"IP: {ip_address}, Action: {action}, Random: {random_number}\")\n",
    "\n",
    "if __name__ == \"__main__\":\n",
    "    main()\n"
   ]
  }
 ],
 "metadata": {
  "kernelspec": {
   "display_name": "Python 3",
   "language": "python",
   "name": "python3"
  },
  "language_info": {
   "codemirror_mode": {
    "name": "ipython",
    "version": 3
   },
   "file_extension": ".py",
   "mimetype": "text/x-python",
   "name": "python",
   "nbconvert_exporter": "python",
   "pygments_lexer": "ipython3",
   "version": "3.9.6"
  }
 },
 "nbformat": 4,
 "nbformat_minor": 5
}
