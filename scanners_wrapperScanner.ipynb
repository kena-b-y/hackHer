{
 "cells": [
  {
   "cell_type": "code",
   "execution_count": null,
   "id": "6d3655b9",
   "metadata": {},
   "outputs": [],
   "source": [
    "import sys\n",
    "import scanner_02\n",
    "import scanner_04\n",
    "\n",
    "def main():\n",
    "    if len(sys.argv) != 3:\n",
    "        print(\"Usage: python scanner_05.py <subnet> <mask>\")\n",
    "        sys.exit(1)\n",
    "\n",
    "    subnet = sys.argv[1]\n",
    "    mask = int(sys.argv[2])\n",
    "\n",
    "    live_hosts = scanner_02.ping_sweep(subnet, str(mask))\n",
    "    print(\"Ping sweep completed.\\n\")\n",
    "\n",
    "    for host in live_hosts:\n",
    "        open_ports = scanner_02.port_scan(host, list(range(1, 1024)))\n",
    "        print(f\"Open ports on host {host}: {open_ports}\\n\")\n",
    "\n",
    "        for port in open_ports:\n",
    "            host_infos = scanner_04.scan_host(host, str(port))\n",
    "            for host_info in host_infos:\n",
    "                scanner_04.output_to_csv(\"scan_results.csv\", host_info)\n",
    "                print(\"\\nScan results:\")\n",
    "                for k, v in host_info.items():\n",
    "                    print(f\"{k}: {v}\")\n",
    "                print()\n",
    "\n",
    "if __name__ == \"__main__\":\n",
    "    main()"
   ]
  }
 ],
 "metadata": {
  "language_info": {
   "name": "python"
  }
 },
 "nbformat": 4,
 "nbformat_minor": 5
}
