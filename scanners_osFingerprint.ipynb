{
 "cells": [
  {
   "cell_type": "code",
   "execution_count": 1,
   "id": "0a0c1959",
   "metadata": {},
   "outputs": [
    {
     "ename": "ModuleNotFoundError",
     "evalue": "No module named 'nmap'",
     "output_type": "error",
     "traceback": [
      "\u001b[0;31m---------------------------------------------------------------------------\u001b[0m",
      "\u001b[0;31mModuleNotFoundError\u001b[0m                       Traceback (most recent call last)",
      "Cell \u001b[0;32mIn[1], line 2\u001b[0m\n\u001b[1;32m      1\u001b[0m \u001b[38;5;28;01mimport\u001b[39;00m\u001b[38;5;250m \u001b[39m\u001b[38;5;21;01margparse\u001b[39;00m \u001b[38;5;66;03m#used to parse command line arguments\u001b[39;00m\n\u001b[0;32m----> 2\u001b[0m \u001b[38;5;28;01mimport\u001b[39;00m\u001b[38;5;250m \u001b[39m\u001b[38;5;21;01mnmap\u001b[39;00m\n\u001b[1;32m      3\u001b[0m \u001b[38;5;28;01mimport\u001b[39;00m\u001b[38;5;250m \u001b[39m\u001b[38;5;21;01mcsv\u001b[39;00m\n\u001b[1;32m      4\u001b[0m \u001b[38;5;28;01mimport\u001b[39;00m\u001b[38;5;250m \u001b[39m\u001b[38;5;21;01mos\u001b[39;00m\n",
      "\u001b[0;31mModuleNotFoundError\u001b[0m: No module named 'nmap'"
     ]
    }
   ],
   "source": [
    "import argparse #used to parse command line arguments\n",
    "import nmap\n",
    "import csv\n",
    "import os\n",
    "import sys\n",
    "\n",
    "def scan_host(ip, ports):\n",
    "    nm = nmap.PortScanner()\n",
    "    nm.scan(ip, ports)\n",
    "    host_infos = []\n",
    "\n",
    "    for proto in nm[ip].all_protocols():\n",
    "        lport = nm[ip][proto].keys()\n",
    "        for port in lport:\n",
    "            host_info = {\n",
    "                'ip': ip,\n",
    "                'os': nm[ip].get('osclass', {}).get('osfamily', 'Unknown'),\n",
    "                'port': port,\n",
    "                'name': nm[ip][proto][port]['name'],\n",
    "                'product': nm[ip][proto][port]['product'],\n",
    "                'version': nm[ip][proto][port]['version'],\n",
    "            }\n",
    "            host_infos.append(host_info)\n",
    "\n",
    "    return host_infos\n",
    "\n",
    "def output_to_csv(output_file, host_info):\n",
    "    fieldnames = [\"ip\", \"os\", \"port\", \"name\", \"product\", \"version\"]\n",
    "    file_exists = os.path.isfile(output_file)\n",
    "\n",
    "    with open(output_file, \"a\") as f:\n",
    "        writer = csv.DictWriter(f, fieldnames=fieldnames)\n",
    "        if not file_exists:\n",
    "            writer.writeheader()\n",
    "        writer.writerow(host_info)\n",
    "\n",
    "def main():\n",
    "    parser = argparse.ArgumentParser(description=\"Scan a single host for open ports and services\")\n",
    "    parser.add_argument(\"host\", help=\"The target host IP address\")\n",
    "    parser.add_argument(\"-p\", \"--ports\", help=\"Ports to scan\", type=str, required=True)\n",
    "    parser.add_argument(\"-o\", \"--output\", help=\"The output file\", default=\"scan_results.csv\")\n",
    "    args = parser.parse_args()\n",
    "\n",
    "    ip = args.host\n",
    "    ports = args.ports\n",
    "    output_file = args.output\n",
    "\n",
    "    print(f\"Scanning IP: {ip}\")\n",
    "    print(f\"Scanning ports: {ports}\")\n",
    "\n",
    "    sys.stdout.write(\"Scanning \")\n",
    "    sys.stdout.flush()\n",
    "\n",
    "    host_infos = scan_host(ip, ports)\n",
    "    \n",
    "    for host_info in host_infos:\n",
    "        output_to_csv(output_file, host_info)\n",
    "\n",
    "    print(\"\\n\\nScan results:\")\n",
    "    for host_info in host_infos:\n",
    "        print(f\"IP: {host_info['ip']}\")\n",
    "        print(f\"OS: {host_info['os']}\")\n",
    "        print(f\"Port: {host_info['port']}\")\n",
    "        print(f\"Name: {host_info['name']}\")\n",
    "        print(f\"Product: {host_info['product']}\")\n",
    "        print(f\"Version: {host_info['version']}\\n\")\n",
    "\n",
    "if __name__ == \"__main__\":\n",
    "    main()"
   ]
  }
 ],
 "metadata": {
  "kernelspec": {
   "display_name": "Python 3",
   "language": "python",
   "name": "python3"
  },
  "language_info": {
   "codemirror_mode": {
    "name": "ipython",
    "version": 3
   },
   "file_extension": ".py",
   "mimetype": "text/x-python",
   "name": "python",
   "nbconvert_exporter": "python",
   "pygments_lexer": "ipython3",
   "version": "3.9.6"
  }
 },
 "nbformat": 4,
 "nbformat_minor": 5
}
