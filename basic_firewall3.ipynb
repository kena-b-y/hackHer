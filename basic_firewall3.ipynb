{
 "cells": [
  {
   "cell_type": "code",
   "execution_count": 1,
   "id": "018b8b9d",
   "metadata": {},
   "outputs": [
    {
     "name": "stdout",
     "output_type": "stream",
     "text": [
      "THRESHOLD: 40\n",
      "This script requires root privileges.\n"
     ]
    },
    {
     "ename": "SystemExit",
     "evalue": "1",
     "output_type": "error",
     "traceback": [
      "An exception has occurred, use %tb to see the full traceback.\n",
      "\u001b[0;31mSystemExit\u001b[0m\u001b[0;31m:\u001b[0m 1\n"
     ]
    },
    {
     "name": "stderr",
     "output_type": "stream",
     "text": [
      "/Users/byuda/Library/Python/3.9/lib/python/site-packages/IPython/core/interactiveshell.py:3558: UserWarning: To exit: use 'exit', 'quit', or Ctrl-D.\n",
      "  warn(\"To exit: use 'exit', 'quit', or Ctrl-D.\", stacklevel=1)\n"
     ]
    }
   ],
   "source": [
    "import os\n",
    "import sys\n",
    "import time\n",
    "from collections import defaultdict\n",
    "from scapy.all import sniff, IP, TCP\n",
    "\n",
    "THRESHOLD = 40\n",
    "print(f\"THRESHOLD: {THRESHOLD}\")\n",
    "\n",
    "# Read IPs from a file\n",
    "def read_ip_file(filename):\n",
    "    with open(filename, \"r\") as file:\n",
    "        ips = [line.strip() for line in file]\n",
    "    return set(ips)\n",
    "\n",
    "# Check for Nimda worm signature\n",
    "def is_nimda_worm(packet):\n",
    "    if packet.haslayer(TCP) and packet[TCP].dport == 80:\n",
    "        payload = packet[TCP].payload\n",
    "        return \"GET /scripts/root.exe\" in str(payload)\n",
    "    return False\n",
    "\n",
    "# Log events to a file\n",
    "def log_event(message):\n",
    "    log_folder = \"logs\"\n",
    "    os.makedirs(log_folder, exist_ok=True)\n",
    "    timestamp = time.strftime(\"%Y-%m-%d_%H-%M-%S\", time.localtime())\n",
    "    log_file = os.path.join(log_folder, f\"log_{timestamp}.txt\")\n",
    "    \n",
    "    with open(log_file, \"a\") as file:\n",
    "        file.write(f\"{message}\\n\")\n",
    "\n",
    "def packet_callback(packet):\n",
    "    src_ip = packet[IP].src\n",
    "\n",
    "      # Check if IP is in the whitelist\n",
    "    if src_ip in whitelist_ips:\n",
    "        return\n",
    "\n",
    "    # Check if IP is in the blacklist\n",
    "    if src_ip in blacklist_ips:\n",
    "        os.system(f\"iptables -A INPUT -s {src_ip} -j DROP\")\n",
    "        log_event(f\"Blocking blacklisted IP: {src_ip}\")\n",
    "        return\n",
    "    \n",
    "      # Check for Nimda worm signature\n",
    "    if is_nimda_worm(packet):\n",
    "        print(f\"Blocking Nimda source IP: {src_ip}\")\n",
    "        os.system(f\"iptables -A INPUT -s {src_ip} -j DROP\")\n",
    "        log_event(f\"Blocking Nimda source IP: {src_ip}\")\n",
    "        return\n",
    "\n",
    "    packet_count[src_ip] += 1\n",
    "\n",
    "    current_time = time.time()\n",
    "    time_interval = current_time - start_time[0]\n",
    "\n",
    "    if time_interval >= 1:\n",
    "        for ip, count in packet_count.items():\n",
    "            packet_rate = count / time_interval\n",
    "\n",
    "            if packet_rate > THRESHOLD and ip not in blocked_ips:\n",
    "                print(f\"Blocking IP: {ip}, packet rate: {packet_rate}\")\n",
    "                os.system(f\"iptables -A INPUT -s {ip} -j DROP\")\n",
    "                log_event(f\"Blocking IP: {ip}, packet rate: {packet_rate}\")\n",
    "                blocked_ips.add(ip)\n",
    "\n",
    "        packet_count.clear()\n",
    "        start_time[0] = current_time\n",
    "\n",
    "if __name__ == \"__main__\":\n",
    "    if os.geteuid() != 0:\n",
    "        print(\"This script requires root privileges.\")\n",
    "        sys.exit(1)\n",
    "\n",
    "    # Import whitelist and blacklist IPs\n",
    "    whitelist_ips = read_ip_file(\"whitelist.txt\")\n",
    "    blacklist_ips = read_ip_file(\"blacklist.txt\")\n",
    "\n",
    "    packet_count = defaultdict(int)\n",
    "    start_time = [time.time()]\n",
    "    blocked_ips = set()\n",
    "\n",
    "    print(\"Monitoring network traffic...\")\n",
    "    sniff(filter=\"ip\", prn=packet_callback)"
   ]
  }
 ],
 "metadata": {
  "kernelspec": {
   "display_name": "Python 3",
   "language": "python",
   "name": "python3"
  },
  "language_info": {
   "codemirror_mode": {
    "name": "ipython",
    "version": 3
   },
   "file_extension": ".py",
   "mimetype": "text/x-python",
   "name": "python",
   "nbconvert_exporter": "python",
   "pygments_lexer": "ipython3",
   "version": "3.9.6"
  }
 },
 "nbformat": 4,
 "nbformat_minor": 5
}
